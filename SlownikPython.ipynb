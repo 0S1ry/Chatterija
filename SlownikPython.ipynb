{
  "nbformat": 4,
  "nbformat_minor": 0,
  "metadata": {
    "colab": {
      "provenance": [],
      "authorship_tag": "ABX9TyOzomsQ/EsjlXxcBJQidsVP",
      "include_colab_link": true
    },
    "kernelspec": {
      "name": "python3",
      "display_name": "Python 3"
    },
    "language_info": {
      "name": "python"
    }
  },
  "cells": [
    {
      "cell_type": "markdown",
      "metadata": {
        "id": "view-in-github",
        "colab_type": "text"
      },
      "source": [
        "<a href=\"https://colab.research.google.com/github/0S1ry/Chatterija/blob/main/SlownikPython.ipynb\" target=\"_parent\"><img src=\"https://colab.research.google.com/assets/colab-badge.svg\" alt=\"Open In Colab\"/></a>"
      ]
    },
    {
      "cell_type": "markdown",
      "source": [
        "Ćwiczenia1\n",
        "**pogrubiony tekst**\n",
        "1.1"
      ],
      "metadata": {
        "id": "gENlopoIfr4O"
      }
    },
    {
      "cell_type": "code",
      "source": [
        "slownik = {}\n",
        "print(slownik)  # Wyjście: {}"
      ],
      "metadata": {
        "id": "OgQnA-9In9Ic"
      },
      "execution_count": null,
      "outputs": []
    },
    {
      "cell_type": "code",
      "source": [
        "slownik = {'klucz1': 'wartość1', 'klucz2': 42, 'klucz3': [1, 2, 3]}\n",
        "print(slownik)  # Wyjście: {'klucz1': 'wartość1', 'klucz2': 42, 'klucz3': [1, 2, 3]}\n"
      ],
      "metadata": {
        "colab": {
          "base_uri": "https://localhost:8080/"
        },
        "id": "qVg5cOwooAFf",
        "outputId": "a2a1f257-5080-4e14-8d27-ce0f1927dd6a"
      },
      "execution_count": 3,
      "outputs": [
        {
          "output_type": "stream",
          "name": "stdout",
          "text": [
            "{'klucz1': 'wartość1', 'klucz2': 42, 'klucz3': [1, 2, 3]}\n"
          ]
        }
      ]
    },
    {
      "cell_type": "code",
      "source": [
        "slownik = {'klucz1': 'Klucz', 'klucz2': 42, 'klucz3': \".\"}\n",
        "print(slownik)  # Wyjście: {'klucz1': 'Klucz', 'klucz2': 42, 'klucz3': .}"
      ],
      "metadata": {
        "colab": {
          "base_uri": "https://localhost:8080/"
        },
        "id": "_Q7O4SH4ofPp",
        "outputId": "414b36de-8925-43ea-a579-20dc0af1258d"
      },
      "execution_count": 9,
      "outputs": [
        {
          "output_type": "stream",
          "name": "stdout",
          "text": [
            "{'klucz1': 'Klucz', 'klucz2': 42, 'klucz3': '.'}\n"
          ]
        }
      ]
    },
    {
      "cell_type": "code",
      "source": [
        "slownik = dict(klucz1='Klucz, klucz2=42')\n",
        "print(slownik)  # Wyjście: {'klucz1': 'Klucz', 'klucz2': 42}"
      ],
      "metadata": {
        "colab": {
          "base_uri": "https://localhost:8080/"
        },
        "id": "lVJvYM8RpkBd",
        "outputId": "f243d4d4-51b1-47a5-e883-683483d8219c"
      },
      "execution_count": 10,
      "outputs": [
        {
          "output_type": "stream",
          "name": "stdout",
          "text": [
            "{'klucz1': 'Klucz, klucz2=42'}\n"
          ]
        }
      ]
    },
    {
      "cell_type": "markdown",
      "source": [
        "Podstawowe metody słowników"
      ],
      "metadata": {
        "id": "az-RaXr3qcot"
      }
    },
    {
      "cell_type": "code",
      "source": [],
      "metadata": {
        "id": "vjL6I25EqcZT"
      },
      "execution_count": null,
      "outputs": []
    }
  ]
}